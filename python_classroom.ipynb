{
 "cells": [
  {
   "cell_type": "markdown",
   "id": "eef20f92-0298-45db-a18e-02899b04689f",
   "metadata": {},
   "source": [
    "# How do you concatenate two strings in Python?"
   ]
  },
  {
   "cell_type": "code",
   "execution_count": null,
   "id": "59f62e46",
   "metadata": {},
   "outputs": [],
   "source": []
  },
  {
   "cell_type": "code",
   "execution_count": null,
   "id": "9d5eceb7",
   "metadata": {},
   "outputs": [],
   "source": []
  },
  {
   "cell_type": "code",
   "execution_count": null,
   "id": "ff29d0d0",
   "metadata": {},
   "outputs": [],
   "source": []
  },
  {
   "cell_type": "code",
   "execution_count": null,
   "id": "ef57f018-74f9-4dc4-865b-cb6d881cd62c",
   "metadata": {},
   "outputs": [
    {
     "name": "stdout",
     "output_type": "stream",
     "text": [
      "Hello python\n"
     ]
    }
   ],
   "source": [
    "str1=\"Hello\"\n",
    "str2=\"python\"\n",
    "str1 += \" \" + str2\n",
    "print(str1)"
   ]
  },
  {
   "cell_type": "markdown",
   "id": "725c6013-cee6-4a47-a7b9-f401a2d6e2fa",
   "metadata": {},
   "source": [
    "# What is the difference between the + operator and the join() method for concatenating strings?"
   ]
  },
  {
   "cell_type": "code",
   "execution_count": null,
   "id": "91bf5a37-a064-4fac-9046-e41622738008",
   "metadata": {},
   "outputs": [
    {
     "name": "stdout",
     "output_type": "stream",
     "text": [
      "hello world\n"
     ]
    }
   ],
   "source": [
    "str1=\"hello\"\n",
    "str2=\"world\"\n",
    "str1 += \" \" + str2\n",
    "print(str1)"
   ]
  },
  {
   "cell_type": "code",
   "execution_count": null,
   "id": "311df68d-4af5-4e6c-a328-5c2a441b1f7d",
   "metadata": {},
   "outputs": [
    {
     "name": "stdout",
     "output_type": "stream",
     "text": [
      "Python is a interpreater language\n"
     ]
    }
   ],
   "source": [
    "#join()\n",
    "str = [\"Python\", \"is\", \"a\",\"interpreater\", \"language\"]\n",
    "result = \" \".join(str)\n",
    "print(result)"
   ]
  },
  {
   "cell_type": "markdown",
   "id": "d5fb8d05-0fde-4b2f-883e-752a5b37a123",
   "metadata": {},
   "source": [
    "# How do you access individual characters in a string?"
   ]
  },
  {
   "cell_type": "raw",
   "id": "67ee3500-3152-46d9-a62e-7d5c21a88446",
   "metadata": {},
   "source": [
    "In Python, you can access individual characters in a string using indexing because strings are sequences (just like lists)."
   ]
  },
  {
   "cell_type": "code",
   "execution_count": null,
   "id": "a145fb08-0e76-4d13-9f30-b062c93e3431",
   "metadata": {},
   "outputs": [
    {
     "name": "stdout",
     "output_type": "stream",
     "text": [
      "P\n",
      "h\n"
     ]
    }
   ],
   "source": [
    "str = \"Python\"\n",
    "print(str[0])  # First character\n",
    "print(str[3])  # Fourth character"
   ]
  },
  {
   "cell_type": "markdown",
   "id": "92030acc-dcf9-401b-8383-5c4418560905",
   "metadata": {},
   "source": [
    "# What method is used to find the length of a string in Python?"
   ]
  },
  {
   "cell_type": "code",
   "execution_count": null,
   "id": "55056b54-bb83-4cb0-83d5-fe85ed1a6f61",
   "metadata": {},
   "outputs": [
    {
     "name": "stdout",
     "output_type": "stream",
     "text": [
      "6\n"
     ]
    }
   ],
   "source": [
    "str = \"Python\"\n",
    "print(len(str))\n"
   ]
  },
  {
   "cell_type": "markdown",
   "id": "84774a54-38a1-4862-8656-995a75386305",
   "metadata": {},
   "source": [
    "# How can you convert a string to uppercase in Python?"
   ]
  },
  {
   "cell_type": "code",
   "execution_count": null,
   "id": "1e2c5e2e-3449-45e3-b324-63b969600295",
   "metadata": {},
   "outputs": [
    {
     "data": {
      "text/plain": [
       "'PYTHON'"
      ]
     },
     "execution_count": 2,
     "metadata": {},
     "output_type": "execute_result"
    }
   ],
   "source": [
    "str=\"python\"\n",
    "str.upper()"
   ]
  },
  {
   "cell_type": "markdown",
   "id": "345fef45-a36a-4636-9417-9d4f40e47b3f",
   "metadata": {},
   "source": [
    "# How can you convert a string to lowercase in Python?"
   ]
  },
  {
   "cell_type": "code",
   "execution_count": null,
   "id": "a63f88c6-2795-42a8-9e26-db0a1dea9f0c",
   "metadata": {},
   "outputs": [
    {
     "data": {
      "text/plain": [
       "'hello world'"
      ]
     },
     "execution_count": 3,
     "metadata": {},
     "output_type": "execute_result"
    }
   ],
   "source": [
    "str=\"HELLO WORLD\"\n",
    "str.lower()"
   ]
  },
  {
   "cell_type": "markdown",
   "id": "009c024d-ef0a-410c-a124-5830c58d2cd3",
   "metadata": {},
   "source": [
    "# What method is used to replace substrings within a string?"
   ]
  },
  {
   "cell_type": "code",
   "execution_count": null,
   "id": "78c0e3f4-6899-4541-9650-b5f12e28ffac",
   "metadata": {},
   "outputs": [
    {
     "data": {
      "text/plain": [
       "'this is a python'"
      ]
     },
     "execution_count": 4,
     "metadata": {},
     "output_type": "execute_result"
    }
   ],
   "source": [
    "string=\"this is a java\"\n",
    "string.replace(\"java\",\"python\")"
   ]
  },
  {
   "cell_type": "raw",
   "id": "730d09a4-7c5c-4cfc-9c7f-7eab547b774d",
   "metadata": {},
   "source": [
    "#Example 2: Replace only first occurrence"
   ]
  },
  {
   "cell_type": "code",
   "execution_count": null,
   "id": "011bb6ee-549e-4cd4-b800-159ae8c84de6",
   "metadata": {},
   "outputs": [
    {
     "data": {
      "text/plain": [
       "'Two one one'"
      ]
     },
     "execution_count": 7,
     "metadata": {},
     "output_type": "execute_result"
    }
   ],
   "source": [
    "str=\"one one one\"\n",
    "str.replace(\"one\",\"Two\",1)"
   ]
  },
  {
   "cell_type": "markdown",
   "id": "09650083-95e3-4f6f-97f8-5f21439fccd0",
   "metadata": {},
   "source": [
    "# How can you split a string into a list of substrings based on a delimiter?"
   ]
  },
  {
   "cell_type": "code",
   "execution_count": null,
   "id": "29723287-57af-4ff5-97ca-5e696700a53f",
   "metadata": {},
   "outputs": [
    {
     "data": {
      "text/plain": [
       "['this', 'a', 'python']"
      ]
     },
     "execution_count": 8,
     "metadata": {},
     "output_type": "execute_result"
    }
   ],
   "source": [
    "string=\"this a python\"\n",
    "string.split()"
   ]
  },
  {
   "cell_type": "code",
   "execution_count": null,
   "id": "1e6fb3f9-be29-426f-bf95-c81291d6af02",
   "metadata": {},
   "outputs": [
    {
     "data": {
      "text/plain": [
       "['apple', 'banana', 'cherry']"
      ]
     },
     "execution_count": 9,
     "metadata": {},
     "output_type": "execute_result"
    }
   ],
   "source": [
    "string = \"apple,banana,cherry\"\n",
    "string.split(\",\")"
   ]
  },
  {
   "cell_type": "markdown",
   "id": "7d2ab920-f506-41aa-9a79-c16ab1c8648d",
   "metadata": {},
   "source": [
    "# How do you check if a string starts with a particular substring?"
   ]
  },
  {
   "cell_type": "code",
   "execution_count": null,
   "id": "d3338220-f894-46e5-a9c8-66eff1bd0f06",
   "metadata": {},
   "outputs": [
    {
     "data": {
      "text/plain": [
       "True"
      ]
     },
     "execution_count": 16,
     "metadata": {},
     "output_type": "execute_result"
    }
   ],
   "source": [
    "str=\"python programming\"\n",
    "str.startswith(\"python\")"
   ]
  },
  {
   "cell_type": "markdown",
   "id": "c41035ea-6785-4a3a-8623-3e3e739a2281",
   "metadata": {},
   "source": [
    "# How do you check if a string ends with a particular substring?"
   ]
  },
  {
   "cell_type": "code",
   "execution_count": null,
   "id": "56f33cc7-8943-4fcd-b4f2-cc07257b9663",
   "metadata": {},
   "outputs": [
    {
     "data": {
      "text/plain": [
       "True"
      ]
     },
     "execution_count": 18,
     "metadata": {},
     "output_type": "execute_result"
    }
   ],
   "source": [
    "str=\"python programming\"\n",
    "str.endswith(\"programming\")"
   ]
  },
  {
   "cell_type": "markdown",
   "id": "4643a4fb-d726-44ed-a230-11cfcae16c26",
   "metadata": {},
   "source": [
    "# How can you remove leading and trailing whitespace from a string?"
   ]
  },
  {
   "cell_type": "code",
   "execution_count": null,
   "id": "f9cac384-4e41-43df-9a68-66075a9886d1",
   "metadata": {},
   "outputs": [
    {
     "data": {
      "text/plain": [
       "'hello  world'"
      ]
     },
     "execution_count": 21,
     "metadata": {},
     "output_type": "execute_result"
    }
   ],
   "source": [
    "str=\"  hello world  \"\n",
    "str.strip()"
   ]
  },
  {
   "cell_type": "code",
   "execution_count": null,
   "id": "0208da18-1c4f-4fcd-bf19-beb51d5bd246",
   "metadata": {},
   "outputs": [
    {
     "data": {
      "text/plain": [
       "'-----hello world-----'"
      ]
     },
     "execution_count": 22,
     "metadata": {},
     "output_type": "execute_result"
    }
   ],
   "source": [
    "str=\"-----hello world-----\"\n",
    "str.strip()"
   ]
  },
  {
   "cell_type": "markdown",
   "id": "347c19ce-1f2c-4201-a61e-af5d2a6c9051",
   "metadata": {},
   "source": [
    "# What method is used to find the index of the first occurrence of a substring within a string?"
   ]
  },
  {
   "cell_type": "code",
   "execution_count": null,
   "id": "ffc1123b-502a-4d98-a28c-9c62b8886481",
   "metadata": {},
   "outputs": [
    {
     "data": {
      "text/plain": [
       "18"
      ]
     },
     "execution_count": 2,
     "metadata": {},
     "output_type": "execute_result"
    }
   ],
   "source": [
    "str = \"Hello, welcome to Python programming.\"\n",
    "str.find(\"Python\")\n"
   ]
  },
  {
   "cell_type": "code",
   "execution_count": null,
   "id": "3c6e53b7-a4b5-422c-b76d-86c4f0e77099",
   "metadata": {},
   "outputs": [
    {
     "data": {
      "text/plain": [
       "15"
      ]
     },
     "execution_count": 3,
     "metadata": {},
     "output_type": "execute_result"
    }
   ],
   "source": [
    "str.find(\"to\")"
   ]
  },
  {
   "cell_type": "markdown",
   "id": "1d2ceb9b-37b4-45ad-ad98-078c577660f8",
   "metadata": {},
   "source": [
    "# How can you count the number of occurrences of a substring within a string?"
   ]
  },
  {
   "cell_type": "code",
   "execution_count": null,
   "id": "90e7c210-fa45-486d-adf6-d0fd90de1233",
   "metadata": {},
   "outputs": [
    {
     "data": {
      "text/plain": [
       "3"
      ]
     },
     "execution_count": 10,
     "metadata": {},
     "output_type": "execute_result"
    }
   ],
   "source": [
    "str=\"python is a interpreater language\"\n",
    "str.count(\"t\")"
   ]
  },
  {
   "cell_type": "markdown",
   "id": "554d218e-c38f-4133-9276-31a400e21732",
   "metadata": {},
   "source": [
    "# How do you check if a string contains only alphabetic characters?"
   ]
  },
  {
   "cell_type": "code",
   "execution_count": null,
   "id": "93c04801-9ded-4dd7-abac-b437eaebc5cb",
   "metadata": {},
   "outputs": [
    {
     "data": {
      "text/plain": [
       "True"
      ]
     },
     "execution_count": 11,
     "metadata": {},
     "output_type": "execute_result"
    }
   ],
   "source": [
    "string=\"python\"\n",
    "string.isalpha()"
   ]
  },
  {
   "cell_type": "code",
   "execution_count": null,
   "id": "fca18cf6-711e-4b0c-a8ef-9c1512154b6f",
   "metadata": {},
   "outputs": [
    {
     "data": {
      "text/plain": [
       "False"
      ]
     },
     "execution_count": 13,
     "metadata": {},
     "output_type": "execute_result"
    }
   ],
   "source": [
    "str=\"python123\"\n",
    "str.isalpha()"
   ]
  },
  {
   "cell_type": "markdown",
   "id": "2ff67bd2-465c-41d3-99c6-d135f12a9f76",
   "metadata": {},
   "source": [
    "# How do you check if a string contains only numeric characters?"
   ]
  },
  {
   "cell_type": "code",
   "execution_count": null,
   "id": "9ca3b01f-bd76-4ddd-8737-37c4aa2b191a",
   "metadata": {},
   "outputs": [
    {
     "data": {
      "text/plain": [
       "True"
      ]
     },
     "execution_count": 14,
     "metadata": {},
     "output_type": "execute_result"
    }
   ],
   "source": [
    "str=\"123456\"\n",
    "str.isnumeric()"
   ]
  },
  {
   "cell_type": "markdown",
   "id": "bd9263a3-db5c-4e96-9917-0efb4a22ea55",
   "metadata": {},
   "source": [
    "# How can you check if a string is a palindrome?"
   ]
  },
  {
   "cell_type": "code",
   "execution_count": null,
   "id": "18dedd05-9028-4d62-b3f8-2283c869f579",
   "metadata": {},
   "outputs": [
    {
     "name": "stdout",
     "output_type": "stream",
     "text": [
      "Not a palindrome\n"
     ]
    }
   ],
   "source": [
    "str = \"banty\"\n",
    "\n",
    "if str == str[::-1]:\n",
    "    print(\"Palindrome\")\n",
    "else:\n",
    "    print(\"Not a palindrome\")\n"
   ]
  },
  {
   "cell_type": "markdown",
   "id": "fdae50d8-94e7-445f-8aa2-92bf6b8665c4",
   "metadata": {},
   "source": [
    "# How can you reverse a string in Python?"
   ]
  },
  {
   "cell_type": "code",
   "execution_count": null,
   "id": "f12d3418-d94a-47b1-9f22-b6de5e30dc72",
   "metadata": {},
   "outputs": [
    {
     "name": "stdout",
     "output_type": "stream",
     "text": [
      "nohtyp\n"
     ]
    }
   ],
   "source": [
    "str=\"python\"\n",
    "reversed_str=str[::-1]\n",
    "print(reversed_str)"
   ]
  },
  {
   "cell_type": "markdown",
   "id": "e9b4fe8e-e52f-4e65-b9b8-b7a4b81836f2",
   "metadata": {},
   "source": [
    "# How do you format a string with placeholders for variable values?"
   ]
  },
  {
   "cell_type": "code",
   "execution_count": null,
   "id": "94dbf3ce-632a-4dff-b620-ece6ea8a10f6",
   "metadata": {},
   "outputs": [
    {
     "name": "stdout",
     "output_type": "stream",
     "text": [
      "Hi Sachin your age is 23 and city is Noida\n"
     ]
    }
   ],
   "source": [
    "name = \"Sachin\"\n",
    "age = 23\n",
    "city = \"Noida\"\n",
    "print(\"Hi {} your age is {} and city is {}\".format(name,age,city))"
   ]
  },
  {
   "cell_type": "code",
   "execution_count": null,
   "id": "80f979a0-cbce-48ac-bb81-4f0739c66d90",
   "metadata": {},
   "outputs": [
    {
     "name": "stdout",
     "output_type": "stream",
     "text": [
      "Hi Sachin your age is 23 and city is Noida\n"
     ]
    }
   ],
   "source": [
    "print(f\"Hi {name} your age is {age} and city is {city}\")"
   ]
  },
  {
   "cell_type": "markdown",
   "id": "1f79274c-e3d1-465c-ae43-a1aa49b4c62f",
   "metadata": {},
   "source": [
    "# How do you access a substring of a string using slicing?"
   ]
  },
  {
   "cell_type": "code",
   "execution_count": null,
   "id": "72cf41df-edb9-4798-9706-61767e4be4f4",
   "metadata": {},
   "outputs": [
    {
     "name": "stdout",
     "output_type": "stream",
     "text": [
      "pyth\n"
     ]
    }
   ],
   "source": [
    "string = \"Python\"\n",
    "print(str[0:4:])  # Characters from index 0 to 3"
   ]
  },
  {
   "cell_type": "code",
   "execution_count": null,
   "id": "31aa504a-6f95-4877-85cd-cab8171cbcac",
   "metadata": {},
   "outputs": [
    {
     "name": "stdout",
     "output_type": "stream",
     "text": [
      "pto\n"
     ]
    }
   ],
   "source": [
    "print(str[0:6:2])"
   ]
  },
  {
   "cell_type": "code",
   "execution_count": null,
   "id": "e6a62822-0f42-41ff-ac7f-f433f2f0b133",
   "metadata": {},
   "outputs": [
    {
     "name": "stdout",
     "output_type": "stream",
     "text": [
      "World\n"
     ]
    }
   ],
   "source": [
    "str = \"Hello, World!\"\n",
    "substring = str[7:12]\n",
    "print(substring)"
   ]
  },
  {
   "cell_type": "markdown",
   "id": "68075b42-df08-41bc-bbe5-4ba5202740ce",
   "metadata": {},
   "source": [
    "# How can you remove specific characters from a string in Python?"
   ]
  },
  {
   "cell_type": "code",
   "execution_count": null,
   "id": "bb2c93ab-17f2-4df2-9f26-d3887749bb3e",
   "metadata": {},
   "outputs": [
    {
     "data": {
      "text/plain": [
       "'hell wrld'"
      ]
     },
     "execution_count": 37,
     "metadata": {},
     "output_type": "execute_result"
    }
   ],
   "source": [
    "str=\"hello world\"\n",
    "str.replace(\"o\",\"\")"
   ]
  },
  {
   "cell_type": "code",
   "execution_count": null,
   "id": "15d0b86c-c391-460a-863f-552adfec53cb",
   "metadata": {},
   "outputs": [],
   "source": []
  }
 ],
 "metadata": {
  "kernelspec": {
   "display_name": "Python 3 (ipykernel)",
   "language": "python",
   "name": "python3"
  },
  "language_info": {
   "codemirror_mode": {
    "name": "ipython",
    "version": 3
   },
   "file_extension": ".py",
   "mimetype": "text/x-python",
   "name": "python",
   "nbconvert_exporter": "python",
   "pygments_lexer": "ipython3",
   "version": "3.13.5"
  }
 },
 "nbformat": 4,
 "nbformat_minor": 5
}
